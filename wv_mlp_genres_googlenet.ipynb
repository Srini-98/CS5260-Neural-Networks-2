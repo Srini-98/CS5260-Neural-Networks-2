{
 "cells": [
  {
   "cell_type": "code",
   "execution_count": 1,
   "id": "8e62d2ed",
   "metadata": {},
   "outputs": [],
   "source": [
    "import pandas as pd\n",
    "import numpy as np\n",
    "import pickle as pkl\n",
    "import torch\n",
    "import torch.nn as nn\n",
    "import torch.nn.functional as F\n",
    "from sklearn.metrics import accuracy_score\n",
    "from sklearn.metrics import precision_score\n",
    "from sklearn.metrics import f1_score\n",
    "from sklearn.metrics import recall_score"
   ]
  },
  {
   "cell_type": "markdown",
   "id": "a95d257b",
   "metadata": {},
   "source": [
    "Loading and concatenating the word2vec tensor and GoogleNet representation generated for our dataset which will serve as input features to the MLP"
   ]
  },
  {
   "cell_type": "code",
   "execution_count": 2,
   "id": "0b288a33",
   "metadata": {},
   "outputs": [],
   "source": [
    "wv  = torch.load(\"./dataset/word2vec_emb_tensor.pkl\")"
   ]
  },
  {
   "cell_type": "code",
   "execution_count": 3,
   "id": "cf669607",
   "metadata": {},
   "outputs": [],
   "source": [
    "cnn = torch.load(\"./dataset/googleNet_cnn_emb_tensor.pkl\")"
   ]
  },
  {
   "cell_type": "code",
   "execution_count": 4,
   "id": "606022e6",
   "metadata": {},
   "outputs": [],
   "source": [
    "X = torch.cat((wv,cnn),dim=1)"
   ]
  },
  {
   "cell_type": "code",
   "execution_count": 5,
   "id": "51a0152f",
   "metadata": {},
   "outputs": [],
   "source": [
    "df = pd.read_csv(\"./dataset/books_with_genres.csv\")"
   ]
  },
  {
   "cell_type": "markdown",
   "id": "455cb8d3",
   "metadata": {},
   "source": [
    "Setting the output labels for the classification of genre into fiction/non-fiction"
   ]
  },
  {
   "cell_type": "code",
   "execution_count": 6,
   "id": "9572943e",
   "metadata": {},
   "outputs": [],
   "source": [
    "df[\"fiction_binary\"] = np.where(df['binary_category']=='fiction', 1, 0)"
   ]
  },
  {
   "cell_type": "code",
   "execution_count": 7,
   "id": "3ad3705e",
   "metadata": {},
   "outputs": [],
   "source": [
    "y = df[\"fiction_binary\"]"
   ]
  },
  {
   "cell_type": "code",
   "execution_count": 8,
   "id": "6e1915f4",
   "metadata": {},
   "outputs": [],
   "source": [
    "y = y.to_numpy()\n",
    "y = torch.from_numpy(y)"
   ]
  },
  {
   "cell_type": "code",
   "execution_count": 9,
   "id": "4b265697",
   "metadata": {},
   "outputs": [],
   "source": [
    "X_train = X[[i for i in range(4000)]]\n",
    "X_test = X[[i for i in range(4000,5000)]]\n",
    "y_train = y[[i for i in range(4000)]]\n",
    "y_test = y[[i for i in range(4000, 5000)]]"
   ]
  },
  {
   "cell_type": "code",
   "execution_count": 10,
   "id": "6da42d67",
   "metadata": {},
   "outputs": [],
   "source": [
    "y_train=y_train.long()\n",
    "y_test=y_test.long()"
   ]
  },
  {
   "cell_type": "markdown",
   "id": "360343fa",
   "metadata": {},
   "source": [
    "Defining the MLP module and running it on GPU"
   ]
  },
  {
   "cell_type": "code",
   "execution_count": 11,
   "id": "77e5d1fb",
   "metadata": {},
   "outputs": [],
   "source": [
    "device = torch.device(\"cuda\")"
   ]
  },
  {
   "cell_type": "code",
   "execution_count": 12,
   "id": "9c2bac9c",
   "metadata": {},
   "outputs": [],
   "source": [
    "class MLP(nn.Module):\n",
    "    def __init__(self, input_size, output_size, hidden_size):\n",
    "        super(MLP, self).__init__()\n",
    "        self.fc1 = nn.Linear(input_size, hidden_size)\n",
    "        self.fc2 = nn.Linear(hidden_size, output_size)\n",
    "        self.relu1 = nn.ReLU()\n",
    "\n",
    "    def forward(self, x):\n",
    "        out = self.fc1(x)\n",
    "        out = self.relu1(out)\n",
    "        out = self.fc2(out)\n",
    "        return out"
   ]
  },
  {
   "cell_type": "code",
   "execution_count": 13,
   "id": "f9ef9bb4",
   "metadata": {},
   "outputs": [],
   "source": [
    "input_size = wv.shape[1]+cnn.shape[1]"
   ]
  },
  {
   "cell_type": "code",
   "execution_count": 14,
   "id": "d9b9c2ce",
   "metadata": {},
   "outputs": [],
   "source": [
    "net = MLP(input_size,2,512)\n",
    "net = net.to(device)"
   ]
  },
  {
   "cell_type": "markdown",
   "id": "e97cf8cd",
   "metadata": {},
   "source": [
    "Using CrossEntropyLoss for calculation of loss and Adam for optimisation"
   ]
  },
  {
   "cell_type": "code",
   "execution_count": 15,
   "id": "4e1fe1db",
   "metadata": {},
   "outputs": [],
   "source": [
    "criterion = nn.CrossEntropyLoss()\n",
    "optimizer=torch.optim.Adam( net.parameters() , lr=5e-4 )"
   ]
  },
  {
   "cell_type": "markdown",
   "id": "621a0248",
   "metadata": {},
   "source": [
    "Training the model"
   ]
  },
  {
   "cell_type": "code",
   "execution_count": 16,
   "id": "e9b29d6d",
   "metadata": {},
   "outputs": [],
   "source": [
    "import torch.optim as optim\n",
    "from random import randint\n",
    "\n",
    "bs = 1\n",
    "\n",
    "for epoch in range(50):\n",
    "\n",
    "    for iter in range(1,500):\n",
    "        # create a minibatch\n",
    "        indices=torch.LongTensor(bs).random_(0,4000)\n",
    "        minibatch_data =  X_train[indices].to(device)\n",
    "        minibatch_label = y_train[indices].to(device)\n",
    "\n",
    "        #reshape them to fit the network\n",
    "        inputs=minibatch_data.view(bs,1100)\n",
    "\n",
    "        inputs.requires_grad_()\n",
    "        prob=net(inputs)\n",
    "\n",
    "        loss = criterion(prob, minibatch_label)    \n",
    "        optimizer.zero_grad()       \n",
    "        loss.backward()\n",
    "        optimizer.step()"
   ]
  },
  {
   "cell_type": "markdown",
   "id": "1f5ca8b7",
   "metadata": {},
   "source": [
    "Testing the model and calculating f1, accuracy, precision and recall"
   ]
  },
  {
   "cell_type": "code",
   "execution_count": 17,
   "id": "bc2ddb48",
   "metadata": {},
   "outputs": [],
   "source": [
    "y_pred = []\n",
    "y_true = []\n",
    "\n",
    "bs = 1\n",
    "\n",
    "for i in range(0,1000,bs):\n",
    "\n",
    "    # extract the minibatch\n",
    "    minibatch_data =  X_test[i:i+bs].to(device)\n",
    "    minibatch_label= y_test[i:i+bs].to(device)\n",
    "\n",
    "    # reshape the minibatch\n",
    "    inputs = minibatch_data.view(bs,input_size)\n",
    "\n",
    "    with torch.set_grad_enabled(False):\n",
    "    # feed it to the network\n",
    "        scores=net( inputs ) \n",
    "        scores = scores.argmax(dim=1)\n",
    "        scores = scores.long()\n",
    "        y_pred.append(scores.to('cpu'))\n",
    "        y_true.append(minibatch_label.to('cpu'))\n"
   ]
  },
  {
   "cell_type": "code",
   "execution_count": 18,
   "id": "1d464cb9",
   "metadata": {},
   "outputs": [],
   "source": [
    "true = []\n",
    "for i in y_true:\n",
    "    true.append(i.item())"
   ]
  },
  {
   "cell_type": "code",
   "execution_count": 19,
   "id": "18f03e72",
   "metadata": {},
   "outputs": [],
   "source": [
    "pred = []\n",
    "for i in y_pred:\n",
    "    pred.append(i.item())"
   ]
  },
  {
   "cell_type": "code",
   "execution_count": 20,
   "id": "e6b9f7bd",
   "metadata": {},
   "outputs": [
    {
     "name": "stdout",
     "output_type": "stream",
     "text": [
      "f1 score on test set  = 0.7748478701825559\n",
      "accuracy score on test set  = 0.667\n",
      "precision score on test set  = 0.8995290423861853\n",
      "recall score on test set  = 0.6805225653206651\n"
     ]
    }
   ],
   "source": [
    "total_f1 = f1_score(pred,true)\n",
    "total_accuracy = accuracy_score(pred,true)\n",
    "total_precision = precision_score(pred,true)\n",
    "total_recall = recall_score(pred,true)\n",
    "\n",
    "print( 'f1 score on test set  =', total_f1)\n",
    "print( 'accuracy score on test set  =', total_accuracy)\n",
    "print( 'precision score on test set  =', total_precision)\n",
    "print( 'recall score on test set  =', total_recall)"
   ]
  },
  {
   "cell_type": "code",
   "execution_count": null,
   "id": "fd47eca2",
   "metadata": {},
   "outputs": [],
   "source": []
  }
 ],
 "metadata": {
  "kernelspec": {
   "display_name": "Python 3 (ipykernel)",
   "language": "python",
   "name": "python3"
  },
  "language_info": {
   "codemirror_mode": {
    "name": "ipython",
    "version": 3
   },
   "file_extension": ".py",
   "mimetype": "text/x-python",
   "name": "python",
   "nbconvert_exporter": "python",
   "pygments_lexer": "ipython3",
   "version": "3.7.10"
  }
 },
 "nbformat": 4,
 "nbformat_minor": 5
}
