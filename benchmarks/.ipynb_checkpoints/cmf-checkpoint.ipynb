{
 "cells": [
  {
   "cell_type": "code",
   "execution_count": 1,
   "id": "82d93a4f",
   "metadata": {},
   "outputs": [],
   "source": [
    "# ref https://nbviewer.org/github/david-cortes/cmfrec/blob/master/example/cmfrec_movielens_sideinfo.ipynb\n",
    "# ref https://cmfrec.readthedocs.io/en/latest/#cmf"
   ]
  },
  {
   "cell_type": "code",
   "execution_count": 2,
   "id": "545e955d",
   "metadata": {},
   "outputs": [],
   "source": [
    "import pandas as pd\n",
    "import numpy as np\n",
    "from cmfrec import CMF\n",
    "import torch\n",
    "import itertools\n",
    "import pickle"
   ]
  },
  {
   "cell_type": "code",
   "execution_count": 3,
   "id": "3c54bab5",
   "metadata": {},
   "outputs": [
    {
     "name": "stdout",
     "output_type": "stream",
     "text": [
      "googleNet\n"
     ]
    }
   ],
   "source": [
    "dataset_folder = \"../dataset/\"\n",
    "cnn_file = \"inceptionNet_cnn_emb_tensor.pkl\"\n",
    "word2vec_emb_file = \"Word2VecAverageArray.npy\"\n",
    "method = cnn_file.split(\"_\")[0]\n",
    "print(method)"
   ]
  },
  {
   "cell_type": "code",
   "execution_count": 4,
   "id": "cf95533e",
   "metadata": {},
   "outputs": [
    {
     "data": {
      "text/plain": [
       "(5000, 100)"
      ]
     },
     "execution_count": 4,
     "metadata": {},
     "output_type": "execute_result"
    }
   ],
   "source": [
    "word2vec_emb = np.load(dataset_folder + word2vec_emb_file)\n",
    "word2vec_emb.shape"
   ]
  },
  {
   "cell_type": "code",
   "execution_count": 5,
   "id": "2d2cef26",
   "metadata": {},
   "outputs": [],
   "source": [
    "cnn_emb = torch.load(dataset_folder + cnn_file)\n",
    "cnn_emb_np =cnn_emb.numpy()"
   ]
  },
  {
   "cell_type": "code",
   "execution_count": 6,
   "id": "465ce9d3",
   "metadata": {},
   "outputs": [
    {
     "name": "stdout",
     "output_type": "stream",
     "text": [
      "5500000\n"
     ]
    }
   ],
   "source": [
    "cmf_df = pd.DataFrame(columns = [\"UserId\", \"ItemId\"])\n",
    "left = []\n",
    "[left.extend([i] * (word2vec_emb.shape[1] + cnn_emb_np.shape[1])) for i in list(range(0, word2vec_emb.shape[0]))]\n",
    "print(len(left))\n",
    "cmf_df[\"UserId\"] = left"
   ]
  },
  {
   "cell_type": "code",
   "execution_count": 7,
   "id": "0722d9b6",
   "metadata": {},
   "outputs": [
    {
     "data": {
      "text/html": [
       "<div>\n",
       "<style scoped>\n",
       "    .dataframe tbody tr th:only-of-type {\n",
       "        vertical-align: middle;\n",
       "    }\n",
       "\n",
       "    .dataframe tbody tr th {\n",
       "        vertical-align: top;\n",
       "    }\n",
       "\n",
       "    .dataframe thead th {\n",
       "        text-align: right;\n",
       "    }\n",
       "</style>\n",
       "<table border=\"1\" class=\"dataframe\">\n",
       "  <thead>\n",
       "    <tr style=\"text-align: right;\">\n",
       "      <th></th>\n",
       "      <th>UserId</th>\n",
       "      <th>ItemId</th>\n",
       "    </tr>\n",
       "  </thead>\n",
       "  <tbody>\n",
       "    <tr>\n",
       "      <th>0</th>\n",
       "      <td>0</td>\n",
       "      <td>5000</td>\n",
       "    </tr>\n",
       "    <tr>\n",
       "      <th>1</th>\n",
       "      <td>0</td>\n",
       "      <td>5001</td>\n",
       "    </tr>\n",
       "    <tr>\n",
       "      <th>2</th>\n",
       "      <td>0</td>\n",
       "      <td>5002</td>\n",
       "    </tr>\n",
       "    <tr>\n",
       "      <th>3</th>\n",
       "      <td>0</td>\n",
       "      <td>5003</td>\n",
       "    </tr>\n",
       "    <tr>\n",
       "      <th>4</th>\n",
       "      <td>0</td>\n",
       "      <td>5004</td>\n",
       "    </tr>\n",
       "  </tbody>\n",
       "</table>\n",
       "</div>"
      ],
      "text/plain": [
       "   UserId  ItemId\n",
       "0       0    5000\n",
       "1       0    5001\n",
       "2       0    5002\n",
       "3       0    5003\n",
       "4       0    5004"
      ]
     },
     "execution_count": 7,
     "metadata": {},
     "output_type": "execute_result"
    }
   ],
   "source": [
    "right = list(range(word2vec_emb.shape[0], (word2vec_emb.shape[0] + word2vec_emb.shape[1] + cnn_emb_np.shape[1]))) * word2vec_emb.shape[0]\n",
    "len(right)\n",
    "cmf_df[\"ItemId\"] = right\n",
    "cmf_df.head()"
   ]
  },
  {
   "cell_type": "code",
   "execution_count": 8,
   "id": "a5df0f0c",
   "metadata": {},
   "outputs": [],
   "source": [
    "emb_concat = np.concatenate([word2vec_emb, cnn_emb], axis = 1)"
   ]
  },
  {
   "cell_type": "code",
   "execution_count": 9,
   "id": "06bfa2cb",
   "metadata": {},
   "outputs": [
    {
     "data": {
      "text/html": [
       "<div>\n",
       "<style scoped>\n",
       "    .dataframe tbody tr th:only-of-type {\n",
       "        vertical-align: middle;\n",
       "    }\n",
       "\n",
       "    .dataframe tbody tr th {\n",
       "        vertical-align: top;\n",
       "    }\n",
       "\n",
       "    .dataframe thead th {\n",
       "        text-align: right;\n",
       "    }\n",
       "</style>\n",
       "<table border=\"1\" class=\"dataframe\">\n",
       "  <thead>\n",
       "    <tr style=\"text-align: right;\">\n",
       "      <th></th>\n",
       "      <th>UserId</th>\n",
       "      <th>ItemId</th>\n",
       "      <th>Rating</th>\n",
       "    </tr>\n",
       "  </thead>\n",
       "  <tbody>\n",
       "    <tr>\n",
       "      <th>0</th>\n",
       "      <td>0</td>\n",
       "      <td>5000</td>\n",
       "      <td>-0.062224</td>\n",
       "    </tr>\n",
       "    <tr>\n",
       "      <th>1</th>\n",
       "      <td>0</td>\n",
       "      <td>5001</td>\n",
       "      <td>0.091295</td>\n",
       "    </tr>\n",
       "    <tr>\n",
       "      <th>2</th>\n",
       "      <td>0</td>\n",
       "      <td>5002</td>\n",
       "      <td>-0.135811</td>\n",
       "    </tr>\n",
       "    <tr>\n",
       "      <th>3</th>\n",
       "      <td>0</td>\n",
       "      <td>5003</td>\n",
       "      <td>0.040227</td>\n",
       "    </tr>\n",
       "    <tr>\n",
       "      <th>4</th>\n",
       "      <td>0</td>\n",
       "      <td>5004</td>\n",
       "      <td>0.474552</td>\n",
       "    </tr>\n",
       "  </tbody>\n",
       "</table>\n",
       "</div>"
      ],
      "text/plain": [
       "   UserId  ItemId    Rating\n",
       "0       0    5000 -0.062224\n",
       "1       0    5001  0.091295\n",
       "2       0    5002 -0.135811\n",
       "3       0    5003  0.040227\n",
       "4       0    5004  0.474552"
      ]
     },
     "execution_count": 9,
     "metadata": {},
     "output_type": "execute_result"
    }
   ],
   "source": [
    "cmf_df[\"Rating\"] = list(emb_concat.flatten())\n",
    "cmf_df.head()"
   ]
  },
  {
   "cell_type": "code",
   "execution_count": 10,
   "id": "e1974b45",
   "metadata": {},
   "outputs": [
    {
     "name": "stdout",
     "output_type": "stream",
     "text": [
      "Starting ALS optimization routine\n",
      "\n",
      "Updating B ... done\n",
      "Updating A ... done\n",
      "\tCompleted ALS iteration  1\n",
      "\n",
      "Updating B ... done\n",
      "Updating A ... done\n",
      "\tCompleted ALS iteration  2\n",
      "\n",
      "Updating B ... done\n",
      "Updating A ... done\n",
      "\tCompleted ALS iteration  3\n",
      "\n",
      "Updating B ... done\n",
      "Updating A ... done\n",
      "\tCompleted ALS iteration  4\n",
      "\n",
      "Updating B ... done\n",
      "Updating A ... done\n",
      "\tCompleted ALS iteration  5\n",
      "\n",
      "Updating B ... done\n",
      "Updating A ... done\n",
      "\tCompleted ALS iteration  6\n",
      "\n",
      "Updating B ... done\n",
      "Updating A ... done\n",
      "\tCompleted ALS iteration  7\n",
      "\n",
      "Updating B ... done\n",
      "Updating A ... done\n",
      "\tCompleted ALS iteration  8\n",
      "\n",
      "Updating B ... done\n",
      "Updating A ... done\n",
      "\tCompleted ALS iteration  9\n",
      "\n",
      "Updating B ... done\n",
      "Updating A ... done\n",
      "\tCompleted ALS iteration 10\n",
      "\n",
      "ALS procedure terminated successfully\n"
     ]
    }
   ],
   "source": [
    "m_classic = CMF(k=50)\\\n",
    "                .fit(cmf_df)"
   ]
  },
  {
   "cell_type": "code",
   "execution_count": 11,
   "id": "5c6a3169",
   "metadata": {},
   "outputs": [
    {
     "data": {
      "text/plain": [
       "(5000, 50)"
      ]
     },
     "execution_count": 11,
     "metadata": {},
     "output_type": "execute_result"
    }
   ],
   "source": [
    "m_classic.A_.shape"
   ]
  },
  {
   "cell_type": "code",
   "execution_count": 12,
   "id": "f46ee901",
   "metadata": {},
   "outputs": [
    {
     "data": {
      "text/plain": [
       "(1100, 50)"
      ]
     },
     "execution_count": 12,
     "metadata": {},
     "output_type": "execute_result"
    }
   ],
   "source": [
    "m_classic.B_.shape"
   ]
  },
  {
   "cell_type": "code",
   "execution_count": 13,
   "id": "d60c0f1e",
   "metadata": {},
   "outputs": [],
   "source": [
    "embeddings = {}\n",
    "embeddings[\"E0\"] = m_classic.A_\n",
    "embeddings[\"E1\"] = m_classic.B_[0:word2vec_emb.shape[1], :]\n",
    "embeddings[\"E2\"] = m_classic.B_[word2vec_emb.shape[1]:, :]\n",
    "with open(f'embeddings_cmf_{method}.pkl', 'wb') as handle:\n",
    "    pickle.dump(embeddings, handle, protocol=pickle.HIGHEST_PROTOCOL)"
   ]
  },
  {
   "cell_type": "markdown",
   "id": "23e67e9f",
   "metadata": {},
   "source": [
    "#### Downstream tasks"
   ]
  },
  {
   "cell_type": "code",
   "execution_count": 14,
   "id": "50977734",
   "metadata": {},
   "outputs": [
    {
     "name": "stdout",
     "output_type": "stream",
     "text": [
      "torch.Size([4000])\n",
      "torch.Size([1000])\n"
     ]
    }
   ],
   "source": [
    "train_ids = torch.load(\"../dataset/train_book_id.pkl\")\n",
    "test_ids = torch.load(\"../dataset/test_book_id.pkl\")\n",
    "print(train_ids.size())\n",
    "print(test_ids.size())"
   ]
  },
  {
   "cell_type": "code",
   "execution_count": 15,
   "id": "8b72f53f",
   "metadata": {},
   "outputs": [
    {
     "data": {
      "text/html": [
       "<div>\n",
       "<style scoped>\n",
       "    .dataframe tbody tr th:only-of-type {\n",
       "        vertical-align: middle;\n",
       "    }\n",
       "\n",
       "    .dataframe tbody tr th {\n",
       "        vertical-align: top;\n",
       "    }\n",
       "\n",
       "    .dataframe thead th {\n",
       "        text-align: right;\n",
       "    }\n",
       "</style>\n",
       "<table border=\"1\" class=\"dataframe\">\n",
       "  <thead>\n",
       "    <tr style=\"text-align: right;\">\n",
       "      <th></th>\n",
       "      <th>isbn</th>\n",
       "      <th>text_reviews_count</th>\n",
       "      <th>series</th>\n",
       "      <th>country_code</th>\n",
       "      <th>language_code</th>\n",
       "      <th>popular_shelves</th>\n",
       "      <th>asin</th>\n",
       "      <th>is_ebook</th>\n",
       "      <th>average_rating</th>\n",
       "      <th>kindle_asin</th>\n",
       "      <th>...</th>\n",
       "      <th>mystery, thriller, crime</th>\n",
       "      <th>poetry</th>\n",
       "      <th>romance</th>\n",
       "      <th>non-fiction</th>\n",
       "      <th>children</th>\n",
       "      <th>young-adult</th>\n",
       "      <th>comics, graphic</th>\n",
       "      <th>category</th>\n",
       "      <th>binary_category</th>\n",
       "      <th>is_fiction</th>\n",
       "    </tr>\n",
       "  </thead>\n",
       "  <tbody>\n",
       "    <tr>\n",
       "      <th>0</th>\n",
       "      <td>NaN</td>\n",
       "      <td>7</td>\n",
       "      <td>['189911']</td>\n",
       "      <td>US</td>\n",
       "      <td>eng</td>\n",
       "      <td>[{'count': '58', 'name': 'to-read'}, {'count':...</td>\n",
       "      <td>B00071IKUY</td>\n",
       "      <td>False</td>\n",
       "      <td>4.03</td>\n",
       "      <td>NaN</td>\n",
       "      <td>...</td>\n",
       "      <td>1.0</td>\n",
       "      <td>1.0</td>\n",
       "      <td>NaN</td>\n",
       "      <td>NaN</td>\n",
       "      <td>NaN</td>\n",
       "      <td>NaN</td>\n",
       "      <td>NaN</td>\n",
       "      <td>fantasy, paranormal</td>\n",
       "      <td>fiction</td>\n",
       "      <td>1</td>\n",
       "    </tr>\n",
       "    <tr>\n",
       "      <th>1</th>\n",
       "      <td>0842379428</td>\n",
       "      <td>566</td>\n",
       "      <td>[]</td>\n",
       "      <td>US</td>\n",
       "      <td>eng</td>\n",
       "      <td>[{'count': '6393', 'name': 'to-read'}, {'count...</td>\n",
       "      <td>NaN</td>\n",
       "      <td>False</td>\n",
       "      <td>4.26</td>\n",
       "      <td>B000FCKCJC</td>\n",
       "      <td>...</td>\n",
       "      <td>NaN</td>\n",
       "      <td>NaN</td>\n",
       "      <td>NaN</td>\n",
       "      <td>163.0</td>\n",
       "      <td>NaN</td>\n",
       "      <td>NaN</td>\n",
       "      <td>NaN</td>\n",
       "      <td>non-fiction</td>\n",
       "      <td>non-fiction</td>\n",
       "      <td>0</td>\n",
       "    </tr>\n",
       "    <tr>\n",
       "      <th>2</th>\n",
       "      <td>0590417010</td>\n",
       "      <td>193</td>\n",
       "      <td>[]</td>\n",
       "      <td>US</td>\n",
       "      <td>eng</td>\n",
       "      <td>[{'count': '450', 'name': 'to-read'}, {'count'...</td>\n",
       "      <td>NaN</td>\n",
       "      <td>False</td>\n",
       "      <td>4.43</td>\n",
       "      <td>B017RORXNI</td>\n",
       "      <td>...</td>\n",
       "      <td>NaN</td>\n",
       "      <td>NaN</td>\n",
       "      <td>NaN</td>\n",
       "      <td>2.0</td>\n",
       "      <td>109.0</td>\n",
       "      <td>1.0</td>\n",
       "      <td>NaN</td>\n",
       "      <td>children</td>\n",
       "      <td>non-fiction</td>\n",
       "      <td>0</td>\n",
       "    </tr>\n",
       "    <tr>\n",
       "      <th>3</th>\n",
       "      <td>1400041694</td>\n",
       "      <td>44</td>\n",
       "      <td>[]</td>\n",
       "      <td>US</td>\n",
       "      <td>en-US</td>\n",
       "      <td>[{'count': '362', 'name': 'to-read'}, {'count'...</td>\n",
       "      <td>NaN</td>\n",
       "      <td>False</td>\n",
       "      <td>3.75</td>\n",
       "      <td>B002OTKEP6</td>\n",
       "      <td>...</td>\n",
       "      <td>NaN</td>\n",
       "      <td>NaN</td>\n",
       "      <td>NaN</td>\n",
       "      <td>37.0</td>\n",
       "      <td>NaN</td>\n",
       "      <td>NaN</td>\n",
       "      <td>NaN</td>\n",
       "      <td>non-fiction</td>\n",
       "      <td>non-fiction</td>\n",
       "      <td>0</td>\n",
       "    </tr>\n",
       "    <tr>\n",
       "      <th>4</th>\n",
       "      <td>NaN</td>\n",
       "      <td>1</td>\n",
       "      <td>[]</td>\n",
       "      <td>US</td>\n",
       "      <td>eng</td>\n",
       "      <td>[{'count': '8', 'name': 'to-read'}, {'count': ...</td>\n",
       "      <td>NaN</td>\n",
       "      <td>False</td>\n",
       "      <td>3.83</td>\n",
       "      <td>NaN</td>\n",
       "      <td>...</td>\n",
       "      <td>NaN</td>\n",
       "      <td>3.0</td>\n",
       "      <td>NaN</td>\n",
       "      <td>NaN</td>\n",
       "      <td>NaN</td>\n",
       "      <td>NaN</td>\n",
       "      <td>NaN</td>\n",
       "      <td>poetry</td>\n",
       "      <td>non-fiction</td>\n",
       "      <td>0</td>\n",
       "    </tr>\n",
       "  </tbody>\n",
       "</table>\n",
       "<p>5 rows × 42 columns</p>\n",
       "</div>"
      ],
      "text/plain": [
       "         isbn  text_reviews_count      series country_code language_code  \\\n",
       "0         NaN                   7  ['189911']           US           eng   \n",
       "1  0842379428                 566          []           US           eng   \n",
       "2  0590417010                 193          []           US           eng   \n",
       "3  1400041694                  44          []           US         en-US   \n",
       "4         NaN                   1          []           US           eng   \n",
       "\n",
       "                                     popular_shelves        asin  is_ebook  \\\n",
       "0  [{'count': '58', 'name': 'to-read'}, {'count':...  B00071IKUY     False   \n",
       "1  [{'count': '6393', 'name': 'to-read'}, {'count...         NaN     False   \n",
       "2  [{'count': '450', 'name': 'to-read'}, {'count'...         NaN     False   \n",
       "3  [{'count': '362', 'name': 'to-read'}, {'count'...         NaN     False   \n",
       "4  [{'count': '8', 'name': 'to-read'}, {'count': ...         NaN     False   \n",
       "\n",
       "   average_rating kindle_asin  ... mystery, thriller, crime poetry romance  \\\n",
       "0            4.03         NaN  ...                      1.0    1.0     NaN   \n",
       "1            4.26  B000FCKCJC  ...                      NaN    NaN     NaN   \n",
       "2            4.43  B017RORXNI  ...                      NaN    NaN     NaN   \n",
       "3            3.75  B002OTKEP6  ...                      NaN    NaN     NaN   \n",
       "4            3.83         NaN  ...                      NaN    3.0     NaN   \n",
       "\n",
       "  non-fiction children young-adult  comics, graphic             category  \\\n",
       "0         NaN      NaN         NaN              NaN  fantasy, paranormal   \n",
       "1       163.0      NaN         NaN              NaN          non-fiction   \n",
       "2         2.0    109.0         1.0              NaN             children   \n",
       "3        37.0      NaN         NaN              NaN          non-fiction   \n",
       "4         NaN      NaN         NaN              NaN               poetry   \n",
       "\n",
       "  binary_category  is_fiction  \n",
       "0         fiction           1  \n",
       "1     non-fiction           0  \n",
       "2     non-fiction           0  \n",
       "3     non-fiction           0  \n",
       "4     non-fiction           0  \n",
       "\n",
       "[5 rows x 42 columns]"
      ]
     },
     "execution_count": 15,
     "metadata": {},
     "output_type": "execute_result"
    }
   ],
   "source": [
    "df = pd.read_csv(\"../dataset/books_with_genres.csv\")\n",
    "df['is_fiction'] = df['binary_category'].apply(lambda x: 1 if x=='fiction' else 0)\n",
    "df.head()"
   ]
  },
  {
   "cell_type": "code",
   "execution_count": 16,
   "id": "895fa1b8",
   "metadata": {},
   "outputs": [
    {
     "name": "stdout",
     "output_type": "stream",
     "text": [
      "(4000, 50)\n",
      "(1000, 50)\n"
     ]
    }
   ],
   "source": [
    "X_train = embeddings[\"E0\"][0:4000]\n",
    "X_test = embeddings[\"E0\"][4000:]\n",
    "print(X_train.shape)\n",
    "print(X_test.shape)"
   ]
  },
  {
   "cell_type": "markdown",
   "id": "55acbec5",
   "metadata": {},
   "source": [
    "#### Regression"
   ]
  },
  {
   "cell_type": "code",
   "execution_count": 17,
   "id": "14358fce",
   "metadata": {},
   "outputs": [
    {
     "name": "stdout",
     "output_type": "stream",
     "text": [
      "(4000,)\n",
      "(1000,)\n"
     ]
    }
   ],
   "source": [
    "y_train = df[\"average_rating\"][0:4000]\n",
    "y_test = df[\"average_rating\"][4000:]\n",
    "print(y_train.shape)\n",
    "print(y_test.shape)"
   ]
  },
  {
   "cell_type": "code",
   "execution_count": 18,
   "id": "f6ee78f3",
   "metadata": {},
   "outputs": [],
   "source": [
    "from sklearn.svm import SVR\n",
    "from sklearn.metrics import mean_squared_error, r2_score\n",
    "svr = SVR()\n",
    "svr.fit(X_train, y_train)\n",
    "preds = svr.predict(X_test)\n",
    "error = mean_squared_error(y_test, preds)\n",
    "r2 = r2_score(y_test, preds)"
   ]
  },
  {
   "cell_type": "code",
   "execution_count": 19,
   "id": "712a7f32",
   "metadata": {},
   "outputs": [
    {
     "name": "stdout",
     "output_type": "stream",
     "text": [
      "0.19294816055738817\n",
      "-0.10659926113924434\n"
     ]
    }
   ],
   "source": [
    "print(error)\n",
    "print(r2)"
   ]
  },
  {
   "cell_type": "code",
   "execution_count": 20,
   "id": "6e2cf516",
   "metadata": {},
   "outputs": [],
   "source": [
    "from sklearn.linear_model import LinearRegression\n",
    "lr = LinearRegression()\n",
    "lr.fit(X_train, y_train)\n",
    "preds = lr.predict(X_test)\n",
    "error = mean_squared_error(y_test, preds)\n",
    "r2 = r2_score(y_test, preds)"
   ]
  },
  {
   "cell_type": "code",
   "execution_count": 21,
   "id": "7a54f874",
   "metadata": {},
   "outputs": [
    {
     "name": "stdout",
     "output_type": "stream",
     "text": [
      "0.17456905518169777\n",
      "-0.0011911330161977762\n"
     ]
    }
   ],
   "source": [
    "print(error)\n",
    "print(r2)"
   ]
  },
  {
   "cell_type": "code",
   "execution_count": 22,
   "id": "0d771b71",
   "metadata": {},
   "outputs": [
    {
     "name": "stdout",
     "output_type": "stream",
     "text": [
      "error:  0.3244524811665002\n",
      "r2 score:  -0.8608048653920986\n"
     ]
    }
   ],
   "source": [
    "from sklearn.neural_network import MLPRegressor\n",
    "regr = MLPRegressor(random_state=1, max_iter=500).fit(X_train, y_train)\n",
    "preds = regr.predict(X_test)\n",
    "error = mean_squared_error(y_test, preds)\n",
    "r2 = r2_score(y_test, preds)\n",
    "print('error: ', error)\n",
    "print('r2 score: ', r2)"
   ]
  },
  {
   "cell_type": "code",
   "execution_count": 23,
   "id": "a1301324",
   "metadata": {},
   "outputs": [
    {
     "name": "stdout",
     "output_type": "stream",
     "text": [
      "error:  0.198301981\n",
      "r2 score:  -0.13730457457136858\n"
     ]
    }
   ],
   "source": [
    "from sklearn.ensemble import BaggingRegressor\n",
    "from sklearn.tree import DecisionTreeRegressor\n",
    "regr = BaggingRegressor(base_estimator=DecisionTreeRegressor(), n_estimators=10, random_state=0).fit(X_train, y_train)\n",
    "preds = regr.predict(X_test)\n",
    "error = mean_squared_error(y_test, preds)\n",
    "r2 = r2_score(y_test, preds)\n",
    "print('error: ', error)\n",
    "print('r2 score: ', r2)"
   ]
  },
  {
   "cell_type": "markdown",
   "id": "8626e6a7",
   "metadata": {},
   "source": [
    "#### Classification"
   ]
  },
  {
   "cell_type": "code",
   "execution_count": 24,
   "id": "f1242a7b",
   "metadata": {},
   "outputs": [
    {
     "name": "stdout",
     "output_type": "stream",
     "text": [
      "(4000,)\n",
      "(1000,)\n"
     ]
    }
   ],
   "source": [
    "y_train = df[\"is_fiction\"][0:4000]\n",
    "y_test = df[\"is_fiction\"][4000:]\n",
    "print(y_train.shape)\n",
    "print(y_test.shape)"
   ]
  },
  {
   "cell_type": "code",
   "execution_count": 25,
   "id": "874dbfd3",
   "metadata": {},
   "outputs": [
    {
     "name": "stdout",
     "output_type": "stream",
     "text": [
      "f1_score:  0.7782529016493586\n",
      "accuarcy:  0.637\n",
      "precision:  0.637\n",
      "recall:  1.0\n"
     ]
    }
   ],
   "source": [
    "from sklearn.ensemble import RandomForestClassifier\n",
    "from sklearn.metrics import f1_score,accuracy_score, precision_score, recall_score\n",
    "clf = RandomForestClassifier(max_depth=2, random_state=0)\n",
    "clf.fit(X_train, y_train)\n",
    "preds = clf.predict(X_test)\n",
    "score = f1_score(y_test, preds)\n",
    "accuracy = accuracy_score(y_test, preds)\n",
    "precision = precision_score(y_test, preds)\n",
    "recall = recall_score(y_test, preds)\n",
    "print('f1_score: ', score)\n",
    "print('accuarcy: ', accuracy)\n",
    "print('precision: ', precision)\n",
    "print('recall: ', recall)"
   ]
  },
  {
   "cell_type": "code",
   "execution_count": 26,
   "id": "c027d2b3",
   "metadata": {},
   "outputs": [
    {
     "name": "stdout",
     "output_type": "stream",
     "text": [
      "f1_score:  0.76410998552822\n",
      "accuarcy:  0.674\n",
      "precision:  0.7087248322147651\n",
      "recall:  0.8288854003139717\n"
     ]
    }
   ],
   "source": [
    "from sklearn.svm import SVC\n",
    "from sklearn.ensemble import BaggingClassifier\n",
    "clf = BaggingClassifier(base_estimator=SVC(), n_estimators=10, random_state=0).fit(X_train, y_train)\n",
    "preds = clf.predict(X_test)\n",
    "score = f1_score(y_test, preds)\n",
    "accuracy = accuracy_score(y_test, preds)\n",
    "precision = precision_score(y_test, preds)\n",
    "recall = recall_score(y_test, preds)\n",
    "print('f1_score: ', score)\n",
    "print('accuarcy: ', accuracy)\n",
    "print('precision: ', precision)\n",
    "print('recall: ', recall)"
   ]
  },
  {
   "cell_type": "code",
   "execution_count": 27,
   "id": "317aaa83",
   "metadata": {},
   "outputs": [
    {
     "name": "stdout",
     "output_type": "stream",
     "text": [
      "f1_score:  0.7263157894736841\n",
      "accuarcy:  0.636\n",
      "precision:  0.696969696969697\n",
      "recall:  0.7582417582417582\n"
     ]
    }
   ],
   "source": [
    "from sklearn.ensemble import GradientBoostingClassifier\n",
    "clf = GradientBoostingClassifier(n_estimators=100, learning_rate=1.0, max_depth=1, random_state=0).fit(X_train, y_train)\n",
    "preds = clf.predict(X_test)\n",
    "score = f1_score(y_test, preds)\n",
    "accuracy = accuracy_score(y_test, preds)\n",
    "precision = precision_score(y_test, preds)\n",
    "recall = recall_score(y_test, preds)\n",
    "print('f1_score: ', score)\n",
    "print('accuarcy: ', accuracy)\n",
    "print('precision: ', precision)\n",
    "print('recall: ', recall)"
   ]
  },
  {
   "cell_type": "code",
   "execution_count": null,
   "id": "55c692f9",
   "metadata": {},
   "outputs": [],
   "source": []
  }
 ],
 "metadata": {
  "kernelspec": {
   "display_name": "Python 3 (ipykernel)",
   "language": "python",
   "name": "python3"
  },
  "language_info": {
   "codemirror_mode": {
    "name": "ipython",
    "version": 3
   },
   "file_extension": ".py",
   "mimetype": "text/x-python",
   "name": "python",
   "nbconvert_exporter": "python",
   "pygments_lexer": "ipython3",
   "version": "3.7.11"
  }
 },
 "nbformat": 4,
 "nbformat_minor": 5
}
