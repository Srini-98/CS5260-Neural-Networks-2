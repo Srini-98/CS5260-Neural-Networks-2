{
 "cells": [
  {
   "cell_type": "code",
   "execution_count": 1,
   "id": "8e62d2ed",
   "metadata": {},
   "outputs": [],
   "source": [
    "import pandas as pd\n",
    "import numpy as np\n",
    "import pickle as pkl\n",
    "import torch\n",
    "import torch.nn as nn\n",
    "import torch.nn.functional as F"
   ]
  },
  {
   "cell_type": "code",
   "execution_count": 2,
   "id": "0b288a33",
   "metadata": {},
   "outputs": [],
   "source": [
    "wv  = torch.load(\"./dataset/word2vec_emb_tensor.pkl\")"
   ]
  },
  {
   "cell_type": "code",
   "execution_count": 3,
   "id": "cf669607",
   "metadata": {},
   "outputs": [],
   "source": [
    "cnn = torch.load(\"./dataset/cnn_emb_tensor.pkl\")"
   ]
  },
  {
   "cell_type": "code",
   "execution_count": 4,
   "id": "606022e6",
   "metadata": {},
   "outputs": [],
   "source": [
    "X = torch.cat((wv,cnn),dim=1)"
   ]
  },
  {
   "cell_type": "code",
   "execution_count": 5,
   "id": "51a0152f",
   "metadata": {},
   "outputs": [],
   "source": [
    "df = pd.read_csv(\"./dataset/books_with_genres.csv\")"
   ]
  },
  {
   "cell_type": "code",
   "execution_count": 6,
   "id": "ed5061e5",
   "metadata": {},
   "outputs": [
    {
     "data": {
      "text/plain": [
       "Index(['isbn', 'text_reviews_count', 'series', 'country_code', 'language_code',\n",
       "       'popular_shelves', 'asin', 'is_ebook', 'average_rating', 'kindle_asin',\n",
       "       'similar_books', 'description', 'format', 'link', 'authors',\n",
       "       'publisher', 'num_pages', 'publication_day', 'isbn13',\n",
       "       'publication_month', 'edition_information', 'publication_year', 'url',\n",
       "       'image_url', 'book_id', 'ratings_count', 'work_id', 'title',\n",
       "       'title_without_series', 'history, historical fiction, biography',\n",
       "       'fiction', 'fantasy, paranormal', 'mystery, thriller, crime', 'poetry',\n",
       "       'romance', 'non-fiction', 'children', 'young-adult', 'comics, graphic'],\n",
       "      dtype='object')"
      ]
     },
     "execution_count": 6,
     "metadata": {},
     "output_type": "execute_result"
    }
   ],
   "source": [
    "df.columns"
   ]
  },
  {
   "cell_type": "code",
   "execution_count": 7,
   "id": "67e7e768",
   "metadata": {},
   "outputs": [],
   "source": [
    "y = df.loc[:,\"history, historical fiction, biography\" : \"comics, graphic\"]"
   ]
  },
  {
   "cell_type": "code",
   "execution_count": 8,
   "id": "6e1915f4",
   "metadata": {},
   "outputs": [],
   "source": [
    "y = y.to_numpy()\n",
    "y = torch.from_numpy(y)"
   ]
  },
  {
   "cell_type": "code",
   "execution_count": 9,
   "id": "4b265697",
   "metadata": {},
   "outputs": [],
   "source": [
    "X_train = X[[i for i in range(4000)]]\n",
    "X_test = X[[i for i in range(4000,5000)]]\n",
    "y_train = y[[i for i in range(4000)]]\n",
    "y_test = y[[i for i in range(4000, 5000)]]"
   ]
  },
  {
   "cell_type": "code",
   "execution_count": 10,
   "id": "6da42d67",
   "metadata": {},
   "outputs": [],
   "source": [
    "y_train=y_train.float()\n",
    "y_test=y_test.float()"
   ]
  },
  {
   "cell_type": "code",
   "execution_count": 11,
   "id": "77e5d1fb",
   "metadata": {},
   "outputs": [],
   "source": [
    "device = torch.device(\"cuda\")"
   ]
  },
  {
   "cell_type": "code",
   "execution_count": 12,
   "id": "9c2bac9c",
   "metadata": {},
   "outputs": [],
   "source": [
    "class MLP(nn.Module):\n",
    "    def __init__(self, input_size, output_size, hidden_size):\n",
    "        super(MLP, self).__init__()\n",
    "        self.fc1 = nn.Linear(input_size, hidden_size)\n",
    "        self.fc2 = nn.Linear(hidden_size, output_size)\n",
    "        self.relu1 = nn.ReLU()\n",
    "\n",
    "    def forward(self, x):\n",
    "        out = self.fc1(x)\n",
    "        out = self.relu1(out)\n",
    "        out = self.fc2(out)\n",
    "        return out"
   ]
  },
  {
   "cell_type": "code",
   "execution_count": 13,
   "id": "d9b9c2ce",
   "metadata": {},
   "outputs": [],
   "source": [
    "net = MLP(1100,10,512)\n",
    "net = net.to(device)"
   ]
  },
  {
   "cell_type": "code",
   "execution_count": 14,
   "id": "4e1fe1db",
   "metadata": {},
   "outputs": [],
   "source": [
    "criterion = nn.BCEWithLogitsLoss()\n",
    "optimizer=torch.optim.Adam( net.parameters() , lr=5e-4 )"
   ]
  },
  {
   "cell_type": "code",
   "execution_count": 15,
   "id": "e9b29d6d",
   "metadata": {},
   "outputs": [],
   "source": [
    "import torch.optim as optim\n",
    "from random import randint\n",
    "\n",
    "bs = 20\n",
    "\n",
    "for epoch in range(50):\n",
    "\n",
    "    for iter in range(1,500):\n",
    "\n",
    "        # create a minibatch\n",
    "        indices=torch.LongTensor(bs).random_(0,4000)\n",
    "        minibatch_data =  X_train[indices].to(device)\n",
    "        minibatch_label = y_train[indices].to(device)\n",
    "\n",
    "        #reshape them to fit the network\n",
    "        inputs=minibatch_data.view(bs,1100)\n",
    "        # feed the input to the net  \n",
    "        inputs.requires_grad_()\n",
    "        prob=net(inputs)\n",
    "\n",
    "\n",
    "        # update the weights (all the magic happens here -- we will discuss it later)\n",
    "        loss = criterion(prob, minibatch_label)    \n",
    "        optimizer.zero_grad()       \n",
    "        loss.backward()"
   ]
  },
  {
   "cell_type": "code",
   "execution_count": 16,
   "id": "bc2ddb48",
   "metadata": {},
   "outputs": [
    {
     "name": "stdout",
     "output_type": "stream",
     "text": [
      "error rate on test set = 69.70403611660004 percent\n"
     ]
    }
   ],
   "source": [
    "\n",
    "running_error=0\n",
    "num_batches=0\n",
    "\n",
    "\n",
    "for i in range(0,1000,bs):\n",
    "\n",
    "    # extract the minibatch\n",
    "    minibatch_data =  X_test[i:i+bs].to(device)\n",
    "    minibatch_label= y_test[i:i+bs].to(device)\n",
    "\n",
    "    # reshape the minibatch\n",
    "    inputs = minibatch_data.view(bs,1100)\n",
    "\n",
    "    # feed it to the network\n",
    "    scores=net( inputs ) \n",
    "\n",
    "    # compute the error made on this batch\n",
    "    error = criterion( scores , minibatch_label)\n",
    "    \n",
    "    # add it to the running error\n",
    "    running_error += error.item()\n",
    "\n",
    "    num_batches+=1\n",
    "\n",
    "\n",
    "# compute error rate on the full test set\n",
    "total_error = running_error/num_batches\n",
    "\n",
    "print( 'error rate on test set =', total_error*100 ,'percent')"
   ]
  }
 ],
 "metadata": {
  "kernelspec": {
   "display_name": "Python 3 (ipykernel)",
   "language": "python",
   "name": "python3"
  },
  "language_info": {
   "codemirror_mode": {
    "name": "ipython",
    "version": 3
   },
   "file_extension": ".py",
   "mimetype": "text/x-python",
   "name": "python",
   "nbconvert_exporter": "python",
   "pygments_lexer": "ipython3",
   "version": "3.7.10"
  }
 },
 "nbformat": 4,
 "nbformat_minor": 5
}
