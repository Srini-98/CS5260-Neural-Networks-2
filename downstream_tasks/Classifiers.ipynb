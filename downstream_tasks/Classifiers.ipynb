{
 "cells": [
  {
   "cell_type": "code",
   "execution_count": 1,
   "metadata": {},
   "outputs": [],
   "source": [
    "import pandas as pd\n",
    "import numpy as np\n",
    "import torch\n",
    "import torch.nn as nn\n",
    "import torch.functional as F\n",
    "import pickle"
   ]
  },
  {
   "cell_type": "code",
   "execution_count": 2,
   "metadata": {},
   "outputs": [
    {
     "data": {
      "text/plain": [
       "array([[-0.0866257 ,  0.00861705, -0.02768877, ...,  0.00064043,\n",
       "         0.03820464, -0.0443062 ],\n",
       "       [-0.00733163,  0.00637373, -0.00079712, ...,  0.00984534,\n",
       "        -0.01724906,  0.04450938],\n",
       "       [-0.01434905,  0.0084365 , -0.01561192, ...,  0.00348288,\n",
       "         0.00016413,  0.02360854],\n",
       "       ...,\n",
       "       [-0.01827695,  0.00692758, -0.01209303, ...,  0.00339431,\n",
       "         0.00328189,  0.02521952],\n",
       "       [ 0.00211651,  0.00280362, -0.0056607 , ...,  0.00286982,\n",
       "        -0.01519183,  0.05249388],\n",
       "       [ 0.02291233,  0.00477167,  0.00636004, ...,  0.00610208,\n",
       "        -0.03793249,  0.08019338]])"
      ]
     },
     "execution_count": 2,
     "metadata": {},
     "output_type": "execute_result"
    }
   ],
   "source": [
    "# file = open('googleNet_embeddings.pkl', 'rb')\n",
    "# embeddings = torch.load('../matrix_factorization/InceptionNet_embeddings.pkl')\n",
    "embeddings = np.load(\"../matrix_factorization/embeddings_alt_arch_with_decoder.npy\")\n",
    "embeddings"
   ]
  },
  {
   "cell_type": "code",
   "execution_count": 3,
   "metadata": {},
   "outputs": [
    {
     "name": "stdout",
     "output_type": "stream",
     "text": [
      "torch.Size([4000])\n",
      "torch.Size([1000])\n"
     ]
    }
   ],
   "source": [
    "train_ids = torch.load(\"../dataset/train_book_id.pkl\")\n",
    "test_ids = torch.load(\"../dataset/test_book_id.pkl\")\n",
    "print(train_ids.size())\n",
    "print(test_ids.size())\n"
   ]
  },
  {
   "cell_type": "code",
   "execution_count": 4,
   "metadata": {},
   "outputs": [
    {
     "data": {
      "text/html": [
       "<div>\n",
       "<style scoped>\n",
       "    .dataframe tbody tr th:only-of-type {\n",
       "        vertical-align: middle;\n",
       "    }\n",
       "\n",
       "    .dataframe tbody tr th {\n",
       "        vertical-align: top;\n",
       "    }\n",
       "\n",
       "    .dataframe thead th {\n",
       "        text-align: right;\n",
       "    }\n",
       "</style>\n",
       "<table border=\"1\" class=\"dataframe\">\n",
       "  <thead>\n",
       "    <tr style=\"text-align: right;\">\n",
       "      <th></th>\n",
       "      <th>isbn</th>\n",
       "      <th>text_reviews_count</th>\n",
       "      <th>series</th>\n",
       "      <th>country_code</th>\n",
       "      <th>language_code</th>\n",
       "      <th>popular_shelves</th>\n",
       "      <th>asin</th>\n",
       "      <th>is_ebook</th>\n",
       "      <th>average_rating</th>\n",
       "      <th>kindle_asin</th>\n",
       "      <th>...</th>\n",
       "      <th>mystery, thriller, crime</th>\n",
       "      <th>poetry</th>\n",
       "      <th>romance</th>\n",
       "      <th>non-fiction</th>\n",
       "      <th>children</th>\n",
       "      <th>young-adult</th>\n",
       "      <th>comics, graphic</th>\n",
       "      <th>category</th>\n",
       "      <th>binary_category</th>\n",
       "      <th>is_fiction</th>\n",
       "    </tr>\n",
       "  </thead>\n",
       "  <tbody>\n",
       "    <tr>\n",
       "      <th>0</th>\n",
       "      <td>NaN</td>\n",
       "      <td>7</td>\n",
       "      <td>['189911']</td>\n",
       "      <td>US</td>\n",
       "      <td>eng</td>\n",
       "      <td>[{'count': '58', 'name': 'to-read'}, {'count':...</td>\n",
       "      <td>B00071IKUY</td>\n",
       "      <td>False</td>\n",
       "      <td>4.03</td>\n",
       "      <td>NaN</td>\n",
       "      <td>...</td>\n",
       "      <td>1.0</td>\n",
       "      <td>1.0</td>\n",
       "      <td>NaN</td>\n",
       "      <td>NaN</td>\n",
       "      <td>NaN</td>\n",
       "      <td>NaN</td>\n",
       "      <td>NaN</td>\n",
       "      <td>fantasy, paranormal</td>\n",
       "      <td>fiction</td>\n",
       "      <td>1</td>\n",
       "    </tr>\n",
       "    <tr>\n",
       "      <th>1</th>\n",
       "      <td>0842379428</td>\n",
       "      <td>566</td>\n",
       "      <td>[]</td>\n",
       "      <td>US</td>\n",
       "      <td>eng</td>\n",
       "      <td>[{'count': '6393', 'name': 'to-read'}, {'count...</td>\n",
       "      <td>NaN</td>\n",
       "      <td>False</td>\n",
       "      <td>4.26</td>\n",
       "      <td>B000FCKCJC</td>\n",
       "      <td>...</td>\n",
       "      <td>NaN</td>\n",
       "      <td>NaN</td>\n",
       "      <td>NaN</td>\n",
       "      <td>163.0</td>\n",
       "      <td>NaN</td>\n",
       "      <td>NaN</td>\n",
       "      <td>NaN</td>\n",
       "      <td>non-fiction</td>\n",
       "      <td>non-fiction</td>\n",
       "      <td>0</td>\n",
       "    </tr>\n",
       "    <tr>\n",
       "      <th>2</th>\n",
       "      <td>0590417010</td>\n",
       "      <td>193</td>\n",
       "      <td>[]</td>\n",
       "      <td>US</td>\n",
       "      <td>eng</td>\n",
       "      <td>[{'count': '450', 'name': 'to-read'}, {'count'...</td>\n",
       "      <td>NaN</td>\n",
       "      <td>False</td>\n",
       "      <td>4.43</td>\n",
       "      <td>B017RORXNI</td>\n",
       "      <td>...</td>\n",
       "      <td>NaN</td>\n",
       "      <td>NaN</td>\n",
       "      <td>NaN</td>\n",
       "      <td>2.0</td>\n",
       "      <td>109.0</td>\n",
       "      <td>1.0</td>\n",
       "      <td>NaN</td>\n",
       "      <td>children</td>\n",
       "      <td>non-fiction</td>\n",
       "      <td>0</td>\n",
       "    </tr>\n",
       "    <tr>\n",
       "      <th>3</th>\n",
       "      <td>1400041694</td>\n",
       "      <td>44</td>\n",
       "      <td>[]</td>\n",
       "      <td>US</td>\n",
       "      <td>en-US</td>\n",
       "      <td>[{'count': '362', 'name': 'to-read'}, {'count'...</td>\n",
       "      <td>NaN</td>\n",
       "      <td>False</td>\n",
       "      <td>3.75</td>\n",
       "      <td>B002OTKEP6</td>\n",
       "      <td>...</td>\n",
       "      <td>NaN</td>\n",
       "      <td>NaN</td>\n",
       "      <td>NaN</td>\n",
       "      <td>37.0</td>\n",
       "      <td>NaN</td>\n",
       "      <td>NaN</td>\n",
       "      <td>NaN</td>\n",
       "      <td>non-fiction</td>\n",
       "      <td>non-fiction</td>\n",
       "      <td>0</td>\n",
       "    </tr>\n",
       "    <tr>\n",
       "      <th>4</th>\n",
       "      <td>NaN</td>\n",
       "      <td>1</td>\n",
       "      <td>[]</td>\n",
       "      <td>US</td>\n",
       "      <td>eng</td>\n",
       "      <td>[{'count': '8', 'name': 'to-read'}, {'count': ...</td>\n",
       "      <td>NaN</td>\n",
       "      <td>False</td>\n",
       "      <td>3.83</td>\n",
       "      <td>NaN</td>\n",
       "      <td>...</td>\n",
       "      <td>NaN</td>\n",
       "      <td>3.0</td>\n",
       "      <td>NaN</td>\n",
       "      <td>NaN</td>\n",
       "      <td>NaN</td>\n",
       "      <td>NaN</td>\n",
       "      <td>NaN</td>\n",
       "      <td>poetry</td>\n",
       "      <td>non-fiction</td>\n",
       "      <td>0</td>\n",
       "    </tr>\n",
       "  </tbody>\n",
       "</table>\n",
       "<p>5 rows × 42 columns</p>\n",
       "</div>"
      ],
      "text/plain": [
       "         isbn  text_reviews_count      series country_code language_code  \\\n",
       "0         NaN                   7  ['189911']           US           eng   \n",
       "1  0842379428                 566          []           US           eng   \n",
       "2  0590417010                 193          []           US           eng   \n",
       "3  1400041694                  44          []           US         en-US   \n",
       "4         NaN                   1          []           US           eng   \n",
       "\n",
       "                                     popular_shelves        asin  is_ebook  \\\n",
       "0  [{'count': '58', 'name': 'to-read'}, {'count':...  B00071IKUY     False   \n",
       "1  [{'count': '6393', 'name': 'to-read'}, {'count...         NaN     False   \n",
       "2  [{'count': '450', 'name': 'to-read'}, {'count'...         NaN     False   \n",
       "3  [{'count': '362', 'name': 'to-read'}, {'count'...         NaN     False   \n",
       "4  [{'count': '8', 'name': 'to-read'}, {'count': ...         NaN     False   \n",
       "\n",
       "   average_rating kindle_asin  ... mystery, thriller, crime poetry romance  \\\n",
       "0            4.03         NaN  ...                      1.0    1.0     NaN   \n",
       "1            4.26  B000FCKCJC  ...                      NaN    NaN     NaN   \n",
       "2            4.43  B017RORXNI  ...                      NaN    NaN     NaN   \n",
       "3            3.75  B002OTKEP6  ...                      NaN    NaN     NaN   \n",
       "4            3.83         NaN  ...                      NaN    3.0     NaN   \n",
       "\n",
       "  non-fiction children young-adult  comics, graphic             category  \\\n",
       "0         NaN      NaN         NaN              NaN  fantasy, paranormal   \n",
       "1       163.0      NaN         NaN              NaN          non-fiction   \n",
       "2         2.0    109.0         1.0              NaN             children   \n",
       "3        37.0      NaN         NaN              NaN          non-fiction   \n",
       "4         NaN      NaN         NaN              NaN               poetry   \n",
       "\n",
       "  binary_category  is_fiction  \n",
       "0         fiction           1  \n",
       "1     non-fiction           0  \n",
       "2     non-fiction           0  \n",
       "3     non-fiction           0  \n",
       "4     non-fiction           0  \n",
       "\n",
       "[5 rows x 42 columns]"
      ]
     },
     "execution_count": 4,
     "metadata": {},
     "output_type": "execute_result"
    }
   ],
   "source": [
    "df = pd.read_csv(\"../dataset/books_with_genres.csv\")\n",
    "df['is_fiction'] = df['binary_category'].apply(lambda x: 1 if x=='fiction' else 0)\n",
    "df.head()"
   ]
  },
  {
   "cell_type": "code",
   "execution_count": 5,
   "metadata": {},
   "outputs": [
    {
     "name": "stdout",
     "output_type": "stream",
     "text": [
      "(4000, 50)\n",
      "(1000, 50)\n"
     ]
    }
   ],
   "source": [
    "X_train = embeddings[0:4000]\n",
    "X_test = embeddings[4000:]\n",
    "print(X_train.shape)\n",
    "print(X_test.shape)"
   ]
  },
  {
   "cell_type": "code",
   "execution_count": 6,
   "metadata": {},
   "outputs": [
    {
     "name": "stdout",
     "output_type": "stream",
     "text": [
      "(4000,)\n",
      "(1000,)\n"
     ]
    }
   ],
   "source": [
    "y_train = df[\"is_fiction\"][0:4000]\n",
    "y_test = df[\"is_fiction\"][4000:]\n",
    "print(y_train.shape)\n",
    "print(y_test.shape)"
   ]
  },
  {
   "cell_type": "code",
   "execution_count": 7,
   "metadata": {},
   "outputs": [
    {
     "name": "stdout",
     "output_type": "stream",
     "text": [
      "f1_score:  0.7653758542141231\n",
      "accuarcy:  0.691\n",
      "precision:  0.7411764705882353\n",
      "recall:  0.7912087912087912\n"
     ]
    }
   ],
   "source": [
    "from sklearn.ensemble import RandomForestClassifier\n",
    "from sklearn.metrics import f1_score,accuracy_score, precision_score, recall_score\n",
    "clf = RandomForestClassifier(max_depth=2, random_state=0)\n",
    "clf.fit(X_train, y_train)\n",
    "preds = clf.predict(X_test)\n",
    "score = f1_score(y_test, preds)\n",
    "accuracy = accuracy_score(y_test, preds)\n",
    "precision = precision_score(y_test, preds)\n",
    "recall = recall_score(y_test, preds)\n",
    "print('f1_score: ', score)\n",
    "print('accuarcy: ', accuracy)\n",
    "print('precision: ', precision)\n",
    "print('recall: ', recall)"
   ]
  },
  {
   "cell_type": "code",
   "execution_count": 8,
   "metadata": {},
   "outputs": [
    {
     "name": "stdout",
     "output_type": "stream",
     "text": [
      "f1_score:  0.7782546494992848\n",
      "accuarcy:  0.69\n",
      "precision:  0.7148488830486203\n",
      "recall:  0.8540031397174255\n"
     ]
    }
   ],
   "source": [
    "from sklearn.svm import SVC\n",
    "from sklearn.ensemble import BaggingClassifier\n",
    "clf = BaggingClassifier(base_estimator=SVC(), n_estimators=10, random_state=0).fit(X_train, y_train)\n",
    "preds = clf.predict(X_test)\n",
    "score = f1_score(y_test, preds)\n",
    "accuracy = accuracy_score(y_test, preds)\n",
    "precision = precision_score(y_test, preds)\n",
    "recall = recall_score(y_test, preds)\n",
    "print('f1_score: ', score)\n",
    "print('accuarcy: ', accuracy)\n",
    "print('precision: ', precision)\n",
    "print('recall: ', recall)"
   ]
  },
  {
   "cell_type": "code",
   "execution_count": 9,
   "metadata": {},
   "outputs": [
    {
     "name": "stdout",
     "output_type": "stream",
     "text": [
      "f1_score:  0.775330396475771\n",
      "accuarcy:  0.694\n",
      "precision:  0.7282758620689656\n",
      "recall:  0.8288854003139717\n"
     ]
    }
   ],
   "source": [
    "from sklearn.ensemble import GradientBoostingClassifier\n",
    "clf = GradientBoostingClassifier(n_estimators=100, learning_rate=1.0, max_depth=1, random_state=0).fit(X_train, y_train)\n",
    "preds = clf.predict(X_test)\n",
    "score = f1_score(y_test, preds)\n",
    "accuracy = accuracy_score(y_test, preds)\n",
    "precision = precision_score(y_test, preds)\n",
    "recall = recall_score(y_test, preds)\n",
    "print('f1_score: ', score)\n",
    "print('accuarcy: ', accuracy)\n",
    "print('precision: ', precision)\n",
    "print('recall: ', recall)"
   ]
  },
  {
   "cell_type": "code",
   "execution_count": null,
   "metadata": {},
   "outputs": [],
   "source": []
  }
 ],
 "metadata": {
  "kernelspec": {
   "display_name": "Python 3 (ipykernel)",
   "language": "python",
   "name": "python3"
  },
  "language_info": {
   "codemirror_mode": {
    "name": "ipython",
    "version": 3
   },
   "file_extension": ".py",
   "mimetype": "text/x-python",
   "name": "python",
   "nbconvert_exporter": "python",
   "pygments_lexer": "ipython3",
   "version": "3.7.10"
  }
 },
 "nbformat": 4,
 "nbformat_minor": 4
}
