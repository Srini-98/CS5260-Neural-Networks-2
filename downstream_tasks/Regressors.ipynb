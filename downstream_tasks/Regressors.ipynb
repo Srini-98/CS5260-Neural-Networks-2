{
 "cells": [
  {
   "cell_type": "code",
   "execution_count": 1,
   "metadata": {},
   "outputs": [],
   "source": [
    "import pandas as pd\n",
    "import numpy as np\n",
    "import torch\n",
    "import torch.nn as nn\n",
    "import torch.functional as F\n",
    "import pickle"
   ]
  },
  {
   "cell_type": "code",
   "execution_count": 2,
   "metadata": {
    "scrolled": true
   },
   "outputs": [
    {
     "data": {
      "text/plain": [
       "{'E0': tensor([[ 0.5170, -0.4419, -0.2317,  ..., -0.2739, -0.0532,  0.0989],\n",
       "         [ 0.4730, -0.0626, -0.4108,  ..., -0.3816, -0.0724, -0.1168],\n",
       "         [-0.0658, -0.4444, -0.8215,  ...,  0.0046, -0.2929,  0.5539],\n",
       "         ...,\n",
       "         [ 0.3002,  0.0253,  0.0117,  ..., -0.1760, -0.3189, -0.2569],\n",
       "         [ 0.0696, -0.2516, -0.8603,  ..., -0.4519, -0.2494,  0.1623],\n",
       "         [ 0.1368, -0.6130, -0.5538,  ..., -0.7279, -0.4489,  0.0234]],\n",
       "        requires_grad=True),\n",
       " 'E1': tensor([[ 0.0148, -0.0759,  0.0269,  ..., -0.0563,  0.0771, -0.1214],\n",
       "         [-0.0219, -0.0221,  0.0357,  ..., -0.0592,  0.0780, -0.0646],\n",
       "         [-0.0220, -0.0605,  0.1777,  ...,  0.1040, -0.0823, -0.0530],\n",
       "         ...,\n",
       "         [-0.0285, -0.0469,  0.0993,  ...,  0.0194,  0.0008, -0.0932],\n",
       "         [-0.0172, -0.0372,  0.0263,  ..., -0.0611,  0.0687, -0.1000],\n",
       "         [ 0.1997, -0.1324, -0.0375,  ..., -0.0423,  0.1198, -0.2128]],\n",
       "        requires_grad=True),\n",
       " 'E2': tensor([[ 0.0982, -0.6205,  0.0477,  ..., -0.4847,  0.5520,  0.5972],\n",
       "         [-0.3053, -0.5184, -0.0036,  ..., -0.3737,  0.0618,  0.5991],\n",
       "         [-0.0931, -0.2211,  0.2228,  ..., -0.4590,  0.4636,  0.1541],\n",
       "         ...,\n",
       "         [-0.1227, -0.3806,  0.1225,  ..., -0.6737,  0.1427,  0.0358],\n",
       "         [-0.2348,  0.0876,  0.2581,  ..., -0.2329,  0.0872,  0.4884],\n",
       "         [-0.3252, -0.1137, -0.1812,  ..., -0.7287, -0.1876, -0.2616]],\n",
       "        requires_grad=True)}"
      ]
     },
     "execution_count": 2,
     "metadata": {},
     "output_type": "execute_result"
    }
   ],
   "source": [
    "# file = open('googleNet_embeddings.pkl', 'rb')\n",
    "embeddings = torch.load('../matrix_factorization/InceptionNet_embeddings.pkl')\n",
    "embeddings"
   ]
  },
  {
   "cell_type": "code",
   "execution_count": 3,
   "metadata": {},
   "outputs": [
    {
     "name": "stdout",
     "output_type": "stream",
     "text": [
      "torch.Size([4000])\n",
      "torch.Size([1000])\n"
     ]
    }
   ],
   "source": [
    "train_ids = torch.load(\"../dataset/train_book_id.pkl\")\n",
    "test_ids = torch.load(\"../dataset/test_book_id.pkl\")\n",
    "print(train_ids.size())\n",
    "print(test_ids.size())"
   ]
  },
  {
   "cell_type": "code",
   "execution_count": 4,
   "metadata": {
    "scrolled": true
   },
   "outputs": [
    {
     "data": {
      "text/html": [
       "<div>\n",
       "<style scoped>\n",
       "    .dataframe tbody tr th:only-of-type {\n",
       "        vertical-align: middle;\n",
       "    }\n",
       "\n",
       "    .dataframe tbody tr th {\n",
       "        vertical-align: top;\n",
       "    }\n",
       "\n",
       "    .dataframe thead th {\n",
       "        text-align: right;\n",
       "    }\n",
       "</style>\n",
       "<table border=\"1\" class=\"dataframe\">\n",
       "  <thead>\n",
       "    <tr style=\"text-align: right;\">\n",
       "      <th></th>\n",
       "      <th>isbn</th>\n",
       "      <th>text_reviews_count</th>\n",
       "      <th>series</th>\n",
       "      <th>country_code</th>\n",
       "      <th>language_code</th>\n",
       "      <th>popular_shelves</th>\n",
       "      <th>asin</th>\n",
       "      <th>is_ebook</th>\n",
       "      <th>average_rating</th>\n",
       "      <th>kindle_asin</th>\n",
       "      <th>...</th>\n",
       "      <th>fantasy, paranormal</th>\n",
       "      <th>mystery, thriller, crime</th>\n",
       "      <th>poetry</th>\n",
       "      <th>romance</th>\n",
       "      <th>non-fiction</th>\n",
       "      <th>children</th>\n",
       "      <th>young-adult</th>\n",
       "      <th>comics, graphic</th>\n",
       "      <th>category</th>\n",
       "      <th>binary_category</th>\n",
       "    </tr>\n",
       "  </thead>\n",
       "  <tbody>\n",
       "    <tr>\n",
       "      <th>0</th>\n",
       "      <td>NaN</td>\n",
       "      <td>7</td>\n",
       "      <td>['189911']</td>\n",
       "      <td>US</td>\n",
       "      <td>eng</td>\n",
       "      <td>[{'count': '58', 'name': 'to-read'}, {'count':...</td>\n",
       "      <td>B00071IKUY</td>\n",
       "      <td>False</td>\n",
       "      <td>4.03</td>\n",
       "      <td>NaN</td>\n",
       "      <td>...</td>\n",
       "      <td>31.0</td>\n",
       "      <td>1.0</td>\n",
       "      <td>1.0</td>\n",
       "      <td>NaN</td>\n",
       "      <td>NaN</td>\n",
       "      <td>NaN</td>\n",
       "      <td>NaN</td>\n",
       "      <td>NaN</td>\n",
       "      <td>fantasy, paranormal</td>\n",
       "      <td>fiction</td>\n",
       "    </tr>\n",
       "    <tr>\n",
       "      <th>1</th>\n",
       "      <td>0842379428</td>\n",
       "      <td>566</td>\n",
       "      <td>[]</td>\n",
       "      <td>US</td>\n",
       "      <td>eng</td>\n",
       "      <td>[{'count': '6393', 'name': 'to-read'}, {'count...</td>\n",
       "      <td>NaN</td>\n",
       "      <td>False</td>\n",
       "      <td>4.26</td>\n",
       "      <td>B000FCKCJC</td>\n",
       "      <td>...</td>\n",
       "      <td>NaN</td>\n",
       "      <td>NaN</td>\n",
       "      <td>NaN</td>\n",
       "      <td>NaN</td>\n",
       "      <td>163.0</td>\n",
       "      <td>NaN</td>\n",
       "      <td>NaN</td>\n",
       "      <td>NaN</td>\n",
       "      <td>non-fiction</td>\n",
       "      <td>non-fiction</td>\n",
       "    </tr>\n",
       "    <tr>\n",
       "      <th>2</th>\n",
       "      <td>0590417010</td>\n",
       "      <td>193</td>\n",
       "      <td>[]</td>\n",
       "      <td>US</td>\n",
       "      <td>eng</td>\n",
       "      <td>[{'count': '450', 'name': 'to-read'}, {'count'...</td>\n",
       "      <td>NaN</td>\n",
       "      <td>False</td>\n",
       "      <td>4.43</td>\n",
       "      <td>B017RORXNI</td>\n",
       "      <td>...</td>\n",
       "      <td>NaN</td>\n",
       "      <td>NaN</td>\n",
       "      <td>NaN</td>\n",
       "      <td>NaN</td>\n",
       "      <td>2.0</td>\n",
       "      <td>109.0</td>\n",
       "      <td>1.0</td>\n",
       "      <td>NaN</td>\n",
       "      <td>children</td>\n",
       "      <td>non-fiction</td>\n",
       "    </tr>\n",
       "    <tr>\n",
       "      <th>3</th>\n",
       "      <td>1400041694</td>\n",
       "      <td>44</td>\n",
       "      <td>[]</td>\n",
       "      <td>US</td>\n",
       "      <td>en-US</td>\n",
       "      <td>[{'count': '362', 'name': 'to-read'}, {'count'...</td>\n",
       "      <td>NaN</td>\n",
       "      <td>False</td>\n",
       "      <td>3.75</td>\n",
       "      <td>B002OTKEP6</td>\n",
       "      <td>...</td>\n",
       "      <td>NaN</td>\n",
       "      <td>NaN</td>\n",
       "      <td>NaN</td>\n",
       "      <td>NaN</td>\n",
       "      <td>37.0</td>\n",
       "      <td>NaN</td>\n",
       "      <td>NaN</td>\n",
       "      <td>NaN</td>\n",
       "      <td>non-fiction</td>\n",
       "      <td>non-fiction</td>\n",
       "    </tr>\n",
       "    <tr>\n",
       "      <th>4</th>\n",
       "      <td>NaN</td>\n",
       "      <td>1</td>\n",
       "      <td>[]</td>\n",
       "      <td>US</td>\n",
       "      <td>eng</td>\n",
       "      <td>[{'count': '8', 'name': 'to-read'}, {'count': ...</td>\n",
       "      <td>NaN</td>\n",
       "      <td>False</td>\n",
       "      <td>3.83</td>\n",
       "      <td>NaN</td>\n",
       "      <td>...</td>\n",
       "      <td>NaN</td>\n",
       "      <td>NaN</td>\n",
       "      <td>3.0</td>\n",
       "      <td>NaN</td>\n",
       "      <td>NaN</td>\n",
       "      <td>NaN</td>\n",
       "      <td>NaN</td>\n",
       "      <td>NaN</td>\n",
       "      <td>poetry</td>\n",
       "      <td>non-fiction</td>\n",
       "    </tr>\n",
       "  </tbody>\n",
       "</table>\n",
       "<p>5 rows × 41 columns</p>\n",
       "</div>"
      ],
      "text/plain": [
       "         isbn  text_reviews_count      series country_code language_code  \\\n",
       "0         NaN                   7  ['189911']           US           eng   \n",
       "1  0842379428                 566          []           US           eng   \n",
       "2  0590417010                 193          []           US           eng   \n",
       "3  1400041694                  44          []           US         en-US   \n",
       "4         NaN                   1          []           US           eng   \n",
       "\n",
       "                                     popular_shelves        asin  is_ebook  \\\n",
       "0  [{'count': '58', 'name': 'to-read'}, {'count':...  B00071IKUY     False   \n",
       "1  [{'count': '6393', 'name': 'to-read'}, {'count...         NaN     False   \n",
       "2  [{'count': '450', 'name': 'to-read'}, {'count'...         NaN     False   \n",
       "3  [{'count': '362', 'name': 'to-read'}, {'count'...         NaN     False   \n",
       "4  [{'count': '8', 'name': 'to-read'}, {'count': ...         NaN     False   \n",
       "\n",
       "   average_rating kindle_asin  ... fantasy, paranormal  \\\n",
       "0            4.03         NaN  ...                31.0   \n",
       "1            4.26  B000FCKCJC  ...                 NaN   \n",
       "2            4.43  B017RORXNI  ...                 NaN   \n",
       "3            3.75  B002OTKEP6  ...                 NaN   \n",
       "4            3.83         NaN  ...                 NaN   \n",
       "\n",
       "  mystery, thriller, crime poetry romance non-fiction children  young-adult  \\\n",
       "0                      1.0    1.0     NaN         NaN      NaN          NaN   \n",
       "1                      NaN    NaN     NaN       163.0      NaN          NaN   \n",
       "2                      NaN    NaN     NaN         2.0    109.0          1.0   \n",
       "3                      NaN    NaN     NaN        37.0      NaN          NaN   \n",
       "4                      NaN    3.0     NaN         NaN      NaN          NaN   \n",
       "\n",
       "   comics, graphic             category  binary_category  \n",
       "0              NaN  fantasy, paranormal          fiction  \n",
       "1              NaN          non-fiction      non-fiction  \n",
       "2              NaN             children      non-fiction  \n",
       "3              NaN          non-fiction      non-fiction  \n",
       "4              NaN               poetry      non-fiction  \n",
       "\n",
       "[5 rows x 41 columns]"
      ]
     },
     "execution_count": 4,
     "metadata": {},
     "output_type": "execute_result"
    }
   ],
   "source": [
    "df = pd.read_csv(\"../dataset/books_with_genres/books_with_genres.csv\")\n",
    "df.head()"
   ]
  },
  {
   "cell_type": "code",
   "execution_count": 5,
   "metadata": {
    "scrolled": true
   },
   "outputs": [
    {
     "name": "stdout",
     "output_type": "stream",
     "text": [
      "(4000, 50)\n",
      "(1000, 50)\n"
     ]
    }
   ],
   "source": [
    "X_train = embeddings[\"E0\"][0:4000].detach().numpy()\n",
    "X_test = embeddings[\"E0\"][4000:].detach().numpy()\n",
    "print(X_train.shape)\n",
    "print(X_test.shape)"
   ]
  },
  {
   "cell_type": "code",
   "execution_count": 6,
   "metadata": {},
   "outputs": [
    {
     "name": "stdout",
     "output_type": "stream",
     "text": [
      "(4000,)\n",
      "(1000,)\n"
     ]
    }
   ],
   "source": [
    "y_train = df[\"average_rating\"][0:4000]\n",
    "y_test = df[\"average_rating\"][4000:]\n",
    "print(y_train.shape)\n",
    "print(y_test.shape)"
   ]
  },
  {
   "cell_type": "code",
   "execution_count": 7,
   "metadata": {},
   "outputs": [
    {
     "name": "stdout",
     "output_type": "stream",
     "text": [
      "error:  0.18598370323110902\n",
      "r2 score:  -0.06665659825387271\n"
     ]
    }
   ],
   "source": [
    "from sklearn.svm import SVR\n",
    "from sklearn.metrics import mean_squared_error, r2_score\n",
    "svr = SVR()\n",
    "svr.fit(X_train, y_train)\n",
    "preds = svr.predict(X_test)\n",
    "error = mean_squared_error(y_test, preds)\n",
    "r2 = r2_score(y_test, preds)\n",
    "print('error: ', error)\n",
    "print('r2 score: ', r2)"
   ]
  },
  {
   "cell_type": "code",
   "execution_count": 8,
   "metadata": {},
   "outputs": [
    {
     "name": "stdout",
     "output_type": "stream",
     "text": [
      "error:  0.17637152527023972\n",
      "r2 score:  -0.011528687219586331\n"
     ]
    }
   ],
   "source": [
    "from sklearn.linear_model import LinearRegression\n",
    "lr = LinearRegression()\n",
    "lr.fit(X_train, y_train)\n",
    "preds = lr.predict(X_test)\n",
    "error = mean_squared_error(y_test, preds)\n",
    "r2 = r2_score(y_test, preds)\n",
    "print('error: ', error)\n",
    "print('r2 score: ', r2)"
   ]
  },
  {
   "cell_type": "code",
   "execution_count": 9,
   "metadata": {},
   "outputs": [
    {
     "name": "stdout",
     "output_type": "stream",
     "text": [
      "error:  0.2791426496795285\n",
      "r2 score:  -0.6009432222389184\n"
     ]
    }
   ],
   "source": [
    "from sklearn.neural_network import MLPRegressor\n",
    "regr = MLPRegressor(random_state=1, max_iter=500).fit(X_train, y_train)\n",
    "preds = regr.predict(X_test)\n",
    "error = mean_squared_error(y_test, preds)\n",
    "r2 = r2_score(y_test, preds)\n",
    "print('error: ', error)\n",
    "print('r2 score: ', r2)"
   ]
  },
  {
   "cell_type": "code",
   "execution_count": 10,
   "metadata": {},
   "outputs": [
    {
     "name": "stdout",
     "output_type": "stream",
     "text": [
      "error:  0.19256091600000003\n",
      "r2 score:  -0.10437833019153286\n"
     ]
    }
   ],
   "source": [
    "from sklearn.ensemble import BaggingRegressor\n",
    "from sklearn.tree import DecisionTreeRegressor\n",
    "regr = BaggingRegressor(base_estimator=DecisionTreeRegressor(), n_estimators=10, random_state=0).fit(X_train, y_train)\n",
    "preds = regr.predict(X_test)\n",
    "error = mean_squared_error(y_test, preds)\n",
    "r2 = r2_score(y_test, preds)\n",
    "print('error: ', error)\n",
    "print('r2 score: ', r2)"
   ]
  },
  {
   "cell_type": "code",
   "execution_count": null,
   "metadata": {},
   "outputs": [],
   "source": []
  }
 ],
 "metadata": {
  "kernelspec": {
   "display_name": "Python 3",
   "language": "python",
   "name": "python3"
  },
  "language_info": {
   "codemirror_mode": {
    "name": "ipython",
    "version": 3
   },
   "file_extension": ".py",
   "mimetype": "text/x-python",
   "name": "python",
   "nbconvert_exporter": "python",
   "pygments_lexer": "ipython3",
   "version": "3.8.5"
  }
 },
 "nbformat": 4,
 "nbformat_minor": 4
}
