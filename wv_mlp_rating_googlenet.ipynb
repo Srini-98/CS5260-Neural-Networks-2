{
 "cells": [
  {
   "cell_type": "code",
   "execution_count": 1,
   "id": "dfb27888",
   "metadata": {},
   "outputs": [],
   "source": [
    "import pandas as pd\n",
    "import numpy as np\n",
    "import pickle as pkl\n",
    "import torch\n",
    "import torch.nn as nn\n",
    "import torch.nn.functional as F\n",
    "from sklearn.metrics import r2_score\n",
    "import scikitplot as skplt"
   ]
  },
  {
   "cell_type": "markdown",
   "id": "09892a13",
   "metadata": {},
   "source": [
    "Loading and concatenating the word2vec tensor and GoogleNet representation generated for our dataset which will serve as input features to the MLP"
   ]
  },
  {
   "cell_type": "code",
   "execution_count": 2,
   "id": "69ba9454",
   "metadata": {},
   "outputs": [],
   "source": [
    "wv  = torch.load(\"./dataset/word2vec_emb_tensor.pkl\")"
   ]
  },
  {
   "cell_type": "code",
   "execution_count": 3,
   "id": "62789e02",
   "metadata": {},
   "outputs": [],
   "source": [
    "cnn = torch.load(\"./dataset/googleNet_cnn_emb_tensor.pkl\")"
   ]
  },
  {
   "cell_type": "code",
   "execution_count": 4,
   "id": "123d9d6a",
   "metadata": {},
   "outputs": [],
   "source": [
    "X = torch.cat((wv,cnn),dim=1)"
   ]
  },
  {
   "cell_type": "code",
   "execution_count": 5,
   "id": "429ab674",
   "metadata": {},
   "outputs": [],
   "source": [
    "df = pd.read_csv(\"./dataset/books_with_genres.csv\")"
   ]
  },
  {
   "cell_type": "markdown",
   "id": "14684132",
   "metadata": {},
   "source": [
    "Setting the output labels for the prediction of rating"
   ]
  },
  {
   "cell_type": "code",
   "execution_count": 6,
   "id": "0c3b84c5",
   "metadata": {},
   "outputs": [],
   "source": [
    "y = df[\"average_rating\"]"
   ]
  },
  {
   "cell_type": "code",
   "execution_count": 7,
   "id": "f62bb369",
   "metadata": {},
   "outputs": [],
   "source": [
    "y = y.to_numpy()\n",
    "y = torch.from_numpy(y)"
   ]
  },
  {
   "cell_type": "markdown",
   "id": "8def8289",
   "metadata": {},
   "source": [
    "Train test split (80-20)"
   ]
  },
  {
   "cell_type": "code",
   "execution_count": 8,
   "id": "20b162b2",
   "metadata": {},
   "outputs": [],
   "source": [
    "X_train = X[[i for i in range(4000)]]\n",
    "X_test = X[[i for i in range(4000,5000)]]\n",
    "y_train = y[[i for i in range(4000)]]\n",
    "y_test = y[[i for i in range(4000, 5000)]]"
   ]
  },
  {
   "cell_type": "markdown",
   "id": "8d8813a5",
   "metadata": {},
   "source": [
    "Defining the MLP module and running it on GPU"
   ]
  },
  {
   "cell_type": "code",
   "execution_count": 9,
   "id": "7b674ee9",
   "metadata": {},
   "outputs": [],
   "source": [
    "device = torch.device(\"cuda\")"
   ]
  },
  {
   "cell_type": "code",
   "execution_count": 10,
   "id": "92d18490",
   "metadata": {},
   "outputs": [],
   "source": [
    "class MLP(nn.Module):\n",
    "    def __init__(self, input_size, output_size, hidden_size):\n",
    "        super(MLP, self).__init__()\n",
    "        self.fc1 = nn.Linear(input_size, hidden_size)\n",
    "        self.fc2 = nn.Linear(hidden_size, output_size)\n",
    "        self.relu1 = nn.ReLU()\n",
    "\n",
    "    def forward(self, x):\n",
    "        out = self.fc1(x)\n",
    "        out = self.relu1(out)\n",
    "        out = self.fc2(out)\n",
    "        return out"
   ]
  },
  {
   "cell_type": "code",
   "execution_count": 11,
   "id": "79c7bd92",
   "metadata": {},
   "outputs": [],
   "source": [
    "input_size = wv.shape[1]+cnn.shape[1]"
   ]
  },
  {
   "cell_type": "code",
   "execution_count": 12,
   "id": "3e209c3e",
   "metadata": {},
   "outputs": [],
   "source": [
    "net = MLP(input_size,1,512)"
   ]
  },
  {
   "cell_type": "code",
   "execution_count": 13,
   "id": "ed40a3c7",
   "metadata": {},
   "outputs": [],
   "source": [
    "net=net.to(device)"
   ]
  },
  {
   "cell_type": "markdown",
   "id": "0ffff47d",
   "metadata": {},
   "source": [
    "Training the model"
   ]
  },
  {
   "cell_type": "code",
   "execution_count": 14,
   "id": "b0e52872",
   "metadata": {},
   "outputs": [
    {
     "name": "stderr",
     "output_type": "stream",
     "text": [
      "C:\\Users\\AISWARYA\\Miniconda3\\envs\\seat\\lib\\site-packages\\torch\\nn\\modules\\loss.py:528: UserWarning: Using a target size (torch.Size([1])) that is different to the input size (torch.Size([1, 1])). This will likely lead to incorrect results due to broadcasting. Please ensure they have the same size.\n",
      "  return F.mse_loss(input, target, reduction=self.reduction)\n"
     ]
    }
   ],
   "source": [
    "import torch.optim as optim\n",
    "from random import randint\n",
    "\n",
    "bs = 1\n",
    "\n",
    "for epoch in range(50):\n",
    "\n",
    "    criterion = nn.MSELoss()\n",
    "    optimizer=torch.optim.SGD(net.parameters() , lr=1e-4 )\n",
    "\n",
    "    for iter in range(1,1000):\n",
    "\n",
    "        # create a minibatch\n",
    "        indices=torch.LongTensor(bs).random_(0,4000)\n",
    "        minibatch_data =  X_train[indices].to(device)\n",
    "        minibatch_label = y_train[indices].float().to(device)\n",
    "\n",
    "        #reshape them to fit the network\n",
    "        inputs=minibatch_data.view(bs,input_size)\n",
    "        # feed the input to the net  \n",
    "        inputs.requires_grad_()\n",
    "        prob=net(inputs)\n",
    "\n",
    "        loss = criterion(prob, minibatch_label)    \n",
    "        optimizer.zero_grad()       \n",
    "        loss.backward()\n",
    "        optimizer.step()"
   ]
  },
  {
   "cell_type": "markdown",
   "id": "6c19038b",
   "metadata": {},
   "source": [
    "Testing the model"
   ]
  },
  {
   "cell_type": "code",
   "execution_count": 15,
   "id": "004b195f",
   "metadata": {},
   "outputs": [
    {
     "name": "stdout",
     "output_type": "stream",
     "text": [
      "error rate on test set = 0.24240577459650473\n",
      "r2 score on test set  = -2.831938444937847\n"
     ]
    },
    {
     "name": "stderr",
     "output_type": "stream",
     "text": [
      "C:\\Users\\AISWARYA\\Miniconda3\\envs\\seat\\lib\\site-packages\\sklearn\\utils\\validation.py:673: FutureWarning: The input object of type 'Tensor' is an array-like implementing one of the corresponding protocols (`__array__`, `__array_interface__` or `__array_struct__`); but not a sequence (or 0-D). In the future, this object will be coerced as if it was first converted using `np.array(obj)`. To retain the old behaviour, you have to either modify the type 'Tensor', or assign to an empty array created with `np.empty(correct_shape, dtype=object)`.\n",
      "  array = np.asarray(array, order=order, dtype=dtype)\n",
      "C:\\Users\\AISWARYA\\Miniconda3\\envs\\seat\\lib\\site-packages\\sklearn\\utils\\validation.py:673: VisibleDeprecationWarning: Creating an ndarray from ragged nested sequences (which is a list-or-tuple of lists-or-tuples-or ndarrays with different lengths or shapes) is deprecated. If you meant to do this, you must specify 'dtype=object' when creating the ndarray.\n",
      "  array = np.asarray(array, order=order, dtype=dtype)\n",
      "C:\\Users\\AISWARYA\\Miniconda3\\envs\\seat\\lib\\site-packages\\sklearn\\utils\\validation.py:63: FutureWarning: Arrays of bytes/strings is being converted to decimal numbers if dtype='numeric'. This behavior is deprecated in 0.24 and will be removed in 1.1 (renaming of 0.26). Please convert your data to numeric values explicitly instead.\n",
      "  return f(*args, **kwargs)\n",
      "C:\\Users\\AISWARYA\\Miniconda3\\envs\\seat\\lib\\site-packages\\sklearn\\utils\\validation.py:673: FutureWarning: The input object of type 'Tensor' is an array-like implementing one of the corresponding protocols (`__array__`, `__array_interface__` or `__array_struct__`); but not a sequence (or 0-D). In the future, this object will be coerced as if it was first converted using `np.array(obj)`. To retain the old behaviour, you have to either modify the type 'Tensor', or assign to an empty array created with `np.empty(correct_shape, dtype=object)`.\n",
      "  array = np.asarray(array, order=order, dtype=dtype)\n",
      "C:\\Users\\AISWARYA\\Miniconda3\\envs\\seat\\lib\\site-packages\\sklearn\\utils\\validation.py:673: VisibleDeprecationWarning: Creating an ndarray from ragged nested sequences (which is a list-or-tuple of lists-or-tuples-or ndarrays with different lengths or shapes) is deprecated. If you meant to do this, you must specify 'dtype=object' when creating the ndarray.\n",
      "  array = np.asarray(array, order=order, dtype=dtype)\n",
      "C:\\Users\\AISWARYA\\Miniconda3\\envs\\seat\\lib\\site-packages\\sklearn\\utils\\validation.py:63: FutureWarning: Arrays of bytes/strings is being converted to decimal numbers if dtype='numeric'. This behavior is deprecated in 0.24 and will be removed in 1.1 (renaming of 0.26). Please convert your data to numeric values explicitly instead.\n",
      "  return f(*args, **kwargs)\n"
     ]
    }
   ],
   "source": [
    "running_error=0\n",
    "y_pred = []\n",
    "y_true = []\n",
    "num_batches=0\n",
    "\n",
    "bs = 1\n",
    "\n",
    "for i in range(0,1000,bs):\n",
    "\n",
    "    # extract the minibatch\n",
    "    minibatch_data =  X_test[i:i+bs].to(device)\n",
    "    minibatch_label= y_test[i:i+bs].float().to(device)\n",
    "\n",
    "    # reshape the minibatch\n",
    "    inputs = minibatch_data.view(bs,input_size)\n",
    "\n",
    "    with torch.set_grad_enabled(False):\n",
    "    # feed it to the network\n",
    "        scores=net( inputs ) \n",
    "        \n",
    "        # compute the error made on this batch\n",
    "        error = criterion( scores , minibatch_label)\n",
    "\n",
    "        # add it to the running error\n",
    "        running_error += error.item()\n",
    "        num_batches += 1\n",
    "        \n",
    "        y_pred.append(scores.to('cpu'))\n",
    "        y_true.append(minibatch_label.to('cpu'))\n",
    "\n",
    "# compute error rate on the full test set\n",
    "total_error = running_error/num_batches\n",
    "total_r2 = r2_score(y_pred,y_true)\n",
    "\n",
    "print( 'error rate on test set =', total_error)\n",
    "print( 'r2 score on test set  =', total_r2)"
   ]
  },
  {
   "cell_type": "code",
   "execution_count": null,
   "id": "3c409bb0",
   "metadata": {},
   "outputs": [],
   "source": [
    "pred = []\n",
    "for i in range (0,1000):\n",
    "    pred.append(net(X_test[i].to(device)).item())\n",
    "pred = torch.tensor(pred)"
   ]
  },
  {
   "cell_type": "code",
   "execution_count": null,
   "id": "7aab87a8",
   "metadata": {},
   "outputs": [],
   "source": [
    "import matplotlib.pyplot as plt\n",
    "\n",
    "plt.figure(figsize=(15,15))\n",
    "plt.plot(pred, label='predicted')\n",
    "plt.plot(y_test, label='actual')\n",
    "plt.ylabel('output y')\n",
    "plt.legend()\n",
    "plt.show()"
   ]
  },
  {
   "cell_type": "code",
   "execution_count": null,
   "id": "4f2977e5",
   "metadata": {},
   "outputs": [],
   "source": [
    "plt.figure(figsize=(10,10))\n",
    "plt.scatter(y_test, pred, c='crimson')\n",
    "plt.yscale('log')\n",
    "plt.xscale('log')\n",
    "\n",
    "p1 = max(max(pred), max(y_test))\n",
    "p2 = min(min(pred), min(y_test))\n",
    "plt.plot([p1, p2], [p1, p2], 'b-')\n",
    "plt.xlabel('True Values', fontsize=15)\n",
    "plt.ylabel('Predictions', fontsize=15)\n",
    "plt.axis('equal')\n",
    "plt.show()"
   ]
  },
  {
   "cell_type": "markdown",
   "id": "fce4b3c1",
   "metadata": {},
   "source": [
    "Saving the train-test split"
   ]
  },
  {
   "cell_type": "code",
   "execution_count": null,
   "id": "84fa9e4a",
   "metadata": {},
   "outputs": [],
   "source": [
    "#book_id = df[\"book_id\"]"
   ]
  },
  {
   "cell_type": "code",
   "execution_count": null,
   "id": "b3a341a0",
   "metadata": {},
   "outputs": [],
   "source": [
    "#book_id = book_id.to_numpy()\n",
    "#book_id = torch.from_numpy(book_id)"
   ]
  },
  {
   "cell_type": "code",
   "execution_count": null,
   "id": "f0f7e0fe",
   "metadata": {},
   "outputs": [],
   "source": [
    "#train_book_id = book_id[[i for i in range(4000)]]\n",
    "#test_book_id = book_id[[i for i in range(4000,5000)]]"
   ]
  },
  {
   "cell_type": "code",
   "execution_count": null,
   "id": "56675031",
   "metadata": {},
   "outputs": [],
   "source": [
    "#torch.save(train_book_id, \"./dataset/train_book_id.pkl\")\n",
    "#torch.save(test_book_id, \"./dataset/test_book_id.pkl\")"
   ]
  }
 ],
 "metadata": {
  "kernelspec": {
   "display_name": "Python 3 (ipykernel)",
   "language": "python",
   "name": "python3"
  },
  "language_info": {
   "codemirror_mode": {
    "name": "ipython",
    "version": 3
   },
   "file_extension": ".py",
   "mimetype": "text/x-python",
   "name": "python",
   "nbconvert_exporter": "python",
   "pygments_lexer": "ipython3",
   "version": "3.7.10"
  }
 },
 "nbformat": 4,
 "nbformat_minor": 5
}
